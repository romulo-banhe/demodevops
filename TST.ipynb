{
 "cells": [
  {
   "cell_type": "code",
   "execution_count": 3,
   "metadata": {},
   "outputs": [
    {
     "name": "stdout",
     "output_type": "stream",
     "text": [
      "A valor foi:  4.279981941780533e+268\n",
      "A valor juros foi:  4.279981941780533e+268\n"
     ]
    }
   ],
   "source": [
    "def main():\n",
    "    num = 2000.00\n",
    "    meses = 1220\n",
    "    taxa = 0.65\n",
    "    \n",
    "    valor_final = num * pow((1 + taxa),meses)\n",
    "    juros = valor_final - num\n",
    "    print(\"A valor foi: \", valor_final)\n",
    "    print(\"A valor juros foi: \", juros)\n",
    "#-----\n",
    "main()"
   ]
  }
 ],
 "metadata": {
  "interpreter": {
   "hash": "57baa5815c940fdaff4d14510622de9616cae602444507ba5d0b6727c008cbd6"
  },
  "kernelspec": {
   "display_name": "Python 3.7.8 64-bit",
   "language": "python",
   "name": "python3"
  },
  "language_info": {
   "codemirror_mode": {
    "name": "ipython",
    "version": 3
   },
   "file_extension": ".py",
   "mimetype": "text/x-python",
   "name": "python",
   "nbconvert_exporter": "python",
   "pygments_lexer": "ipython3",
   "version": "3.7.8"
  },
  "orig_nbformat": 4
 },
 "nbformat": 4,
 "nbformat_minor": 2
}
